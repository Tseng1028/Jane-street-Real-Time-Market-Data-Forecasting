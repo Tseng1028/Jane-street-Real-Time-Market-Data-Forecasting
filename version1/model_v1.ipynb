{
 "cells": [
  {
   "cell_type": "markdown",
   "metadata": {},
   "source": [
    "# PIP"
   ]
  },
  {
   "cell_type": "code",
   "execution_count": 1,
   "metadata": {},
   "outputs": [
    {
     "name": "stdout",
     "output_type": "stream",
     "text": [
      "Requirement already satisfied: pyarrow in c:\\users\\user\\.conda\\envs\\janestreet\\lib\\site-packages (17.0.0)\n",
      "Requirement already satisfied: numpy>=1.16.6 in c:\\users\\user\\.conda\\envs\\janestreet\\lib\\site-packages (from pyarrow) (1.26.4)\n",
      "Requirement already satisfied: xgboost in c:\\users\\user\\.conda\\envs\\janestreet\\lib\\site-packages (2.1.2)\n",
      "Requirement already satisfied: numpy in c:\\users\\user\\.conda\\envs\\janestreet\\lib\\site-packages (from xgboost) (1.26.4)\n",
      "Requirement already satisfied: scipy in c:\\users\\user\\.conda\\envs\\janestreet\\lib\\site-packages (from xgboost) (1.14.1)\n",
      "Requirement already satisfied: protobuf in c:\\users\\user\\.conda\\envs\\janestreet\\lib\\site-packages (5.28.3)\n"
     ]
    }
   ],
   "source": [
    "! pip install pyarrow\n",
    "! pip install xgboost --upgrade\n",
    "! pip install protobuf\n"
   ]
  },
  {
   "cell_type": "markdown",
   "metadata": {},
   "source": [
    "# Import"
   ]
  },
  {
   "cell_type": "code",
   "execution_count": 1,
   "metadata": {},
   "outputs": [],
   "source": [
    "import os\n",
    "import joblib\n",
    "import numpy as np\n",
    "import pandas as pd\n",
    "import polars as pl\n",
    "import lightgbm as lgb\n",
    "import xgboost as xgb\n",
    "import catboost as cbt\n",
    "from joblib import Parallel, delayed\n",
    "import gc"
   ]
  },
  {
   "cell_type": "code",
   "execution_count": 2,
   "metadata": {},
   "outputs": [],
   "source": [
    "from xgboost import XGBRegressor\n",
    "\n",
    "import sys\n",
    "\n",
    "sys.path.extend(['../', '../../'])\n",
    "import kaggle_evaluation.jane_street_inference_server "
   ]
  },
  {
   "cell_type": "code",
   "execution_count": 3,
   "metadata": {},
   "outputs": [],
   "source": [
    "# Train or not\n",
    "TRAINING = False"
   ]
  },
  {
   "cell_type": "markdown",
   "metadata": {},
   "source": [
    "# Def some useful fuction"
   ]
  },
  {
   "cell_type": "code",
   "execution_count": 6,
   "metadata": {},
   "outputs": [],
   "source": [
    "\"\"\"\n",
    "優化 df 的內存使用量\n",
    "\"\"\"\n",
    "\n",
    "\n",
    "\n",
    "def reduce_mem_usage(self, float16_as32=True):\n",
    "    # 計算並顯示初始資料表的內存使用量 (MB)\n",
    "    start_mem = df.memory_usage().sum() / 1024**2\n",
    "    print('Memory usage of dataframe is {:.2f} MB'.format(start_mem))\n",
    "\n",
    "    # 遍歷每一列的名稱\n",
    "    for col in df.columns:\n",
    "        col_type = df[col].dtype  # 獲取列的數據類型\n",
    "        \n",
    "        # 若資料類型為數值 (非 object 或 category 類型)\n",
    "        if col_type != object and str(col_type) != 'category':\n",
    "            c_min, c_max = df[col].min(), df[col].max()  # 計算列中的最小值與最大值\n",
    "            \n",
    "            # 若資料類型為整數 (int)\n",
    "            if str(col_type)[:3] == 'int':\n",
    "                # 若範圍在 int8 (-128 到 127) 內，轉換為 int8\n",
    "                if c_min > np.iinfo(np.int8).min and c_max < np.iinfo(np.int8).max:\n",
    "                    df[col] = df[col].astype(np.int8)\n",
    "                # 若範圍在 int16 (-32,768 到 32,767) 內，轉換為 int16\n",
    "                elif c_min > np.iinfo(np.int16).min and c_max < np.iinfo(np.int16).max:\n",
    "                    df[col] = df[col].astype(np.int16)\n",
    "                # 若範圍在 int32 (-2,147,483,648 到 2,147,483,647) 內，轉換為 int32\n",
    "                elif c_min > np.iinfo(np.int32).min and c_max < np.iinfo(np.int32).max:\n",
    "                    df[col] = df[col].astype(np.int32)\n",
    "                # 若範圍在 int64 內，轉換為 int64\n",
    "                elif c_min > np.iinfo(np.int64).min and c_max < np.iinfo(np.int64).max:\n",
    "                    df[col] = df[col].astype(np.int64)\n",
    "            # 若資料類型為浮點數 (float)\n",
    "            else:\n",
    "                # 若範圍在 float16 內，並且需要更高精度時可選擇轉換為 float32\n",
    "                if c_min > np.finfo(np.float16).min and c_max < np.finfo(np.float16).max:\n",
    "                    df[col] = df[col].astype(np.float32) if float16_as32 else df[col].astype(np.float16)\n",
    "                # 若範圍在 float32 內，轉換為 float32\n",
    "                elif c_min > np.finfo(np.float32).min and c_max < np.finfo(np.float32).max:\n",
    "                    df[col] = df[col].astype(np.float32)\n",
    "                # 若範圍在 float64 內，轉換為 float64\n",
    "                else:\n",
    "                    df[col] = df[col].astype(np.float64)\n",
    "\n",
    "    # 計算並顯示優化後的內存使用量 (MB)\n",
    "    end_mem = df.memory_usage().sum() / 1024**2\n",
    "    print('Memory usage after optimization is: {:.2f} MB'.format(end_mem))\n",
    "    # 計算內存減少的百分比\n",
    "    print('Decreased by {:.1f}%'.format(100 * (start_mem - end_mem) / start_mem))\n",
    "\n",
    "    return df\n"
   ]
  },
  {
   "cell_type": "code",
   "execution_count": 7,
   "metadata": {},
   "outputs": [],
   "source": [
    "\n",
    "def reform_data(df, skip_dates=500, num_valid_dates=100, feature_names=None):\n",
    "    \"\"\"\n",
    "    \n",
    "    參數:\n",
    "        df(DataFrame): 要處理的df\n",
    "        skip_dates (int): 需要跳過的日期數量。\n",
    "        num_valid_dates (int): 驗證集的日期數量。\n",
    "        training (bool): 是否處於訓練模式。\n",
    "        reduce_mem_usage_fn (function): 內存優化函數，如果提供，將用於優化 DataFrame 的內存。\n",
    "    \n",
    "    返回:\n",
    "        df (DataFrame): 加載並處理後的訓練數據。\n",
    "        train_dates (array): 訓練日期的陣列。\n",
    "        valid_dates (array): 驗證日期的陣列。\n",
    "    \"\"\"\n",
    "    \n",
    "    # 如果沒有提供特徵名稱，則使用預設的 79 個特徵\n",
    "    if feature_names is None:\n",
    "        feature_names = [f\"feature_{i:02d}\" for i in range(79)]\n",
    "    \n",
    "    # 檢查是否處於訓練模式\n",
    "    if TRAINING:\n",
    "        \n",
    "        # 進行內存優化\n",
    "        #df = reduce_mem_usage(df, False)\n",
    "        \n",
    "        # 過濾數據，僅保留日期大於等於 skip_dates 的記錄\n",
    "        df = df[df['date_id'] >= skip_dates].reset_index(drop=True)\n",
    "        \n",
    "        # 獲取唯一的日期列表\n",
    "        dates = df['date_id'].unique()\n",
    "        \n",
    "        # 定義驗證集的日期（最後的 `num_valid_dates` 天）\n",
    "        valid_dates = dates[-num_valid_dates:]\n",
    "        \n",
    "        # 定義訓練集的日期（除了最後 `num_valid_dates` 天以外的所有日期）\n",
    "        train_dates = dates[:-num_valid_dates]\n",
    "        \n",
    "        # 返回加載的數據、訓練日期和驗證日期\n",
    "        return df, train_dates, valid_dates\n",
    "    else:\n",
    "        print(\"未啟用訓練模式，未加載任何數據。\")\n",
    "        return None, None, None\n",
    "\n"
   ]
  },
  {
   "cell_type": "markdown",
   "metadata": {},
   "source": [
    "# Data load"
   ]
  },
  {
   "cell_type": "code",
   "execution_count": 7,
   "metadata": {},
   "outputs": [],
   "source": [
    "df = pd.read_parquet(r'C:\\Users\\User\\Desktop\\kaggle\\Jane-street-Real-Time-Market-Data-Forecasting\\train.parquet\\partition_id=0')\n",
    "\n",
    "for id in range(1,9):\n",
    "    path = r'C:\\Users\\User\\Desktop\\kaggle\\Jane-street-Real-Time-Market-Data-Forecasting\\train.parquet\\partition_id=' + str(id)\n",
    "    df_temp = pd.read_parquet(path)\n",
    "    df = pd.concat([df, df_temp], ignore_index=True)"
   ]
  },
  {
   "cell_type": "code",
   "execution_count": 8,
   "metadata": {},
   "outputs": [
    {
     "name": "stdout",
     "output_type": "stream",
     "text": [
      "未啟用訓練模式，未加載任何數據。\n"
     ]
    }
   ],
   "source": [
    "data, train_date, valid_date = reform_data(df, skip_dates=500, num_valid_dates=100)"
   ]
  },
  {
   "cell_type": "code",
   "execution_count": 9,
   "metadata": {},
   "outputs": [],
   "source": [
    "data"
   ]
  },
  {
   "cell_type": "code",
   "execution_count": 10,
   "metadata": {},
   "outputs": [],
   "source": [
    "train_date"
   ]
  },
  {
   "cell_type": "code",
   "execution_count": 11,
   "metadata": {},
   "outputs": [],
   "source": [
    "valid_date"
   ]
  },
  {
   "cell_type": "code",
   "execution_count": 8,
   "metadata": {},
   "outputs": [],
   "source": [
    "N_fold = 5"
   ]
  },
  {
   "cell_type": "code",
   "execution_count": 9,
   "metadata": {},
   "outputs": [],
   "source": [
    "feature_names = [f\"feature_{i:02d}\" for i in range(79)]"
   ]
  },
  {
   "cell_type": "markdown",
   "metadata": {},
   "source": [
    "# Model"
   ]
  },
  {
   "cell_type": "code",
   "execution_count": 10,
   "metadata": {},
   "outputs": [],
   "source": [
    "# 創建目錄來存儲訓練好的模型\n",
    "os.system('mkdir models')\n",
    "\n",
    "# 定義路徑以儲存/載入預訓練模型（當不在訓練模式時使用）\n",
    "model_path = r'C:\\Users\\User\\Desktop\\kaggle\\Jane-street-Real-Time-Market-Data-Forecasting\\version1\\models'"
   ]
  },
  {
   "cell_type": "code",
   "execution_count": 11,
   "metadata": {},
   "outputs": [],
   "source": [
    "# 若處於訓練模式，準備驗證數據\n",
    "if TRAINING:\n",
    "    # 提取驗證日期的特徵、目標變量和權重\n",
    "    X_valid = df[feature_names].loc[df['date_id'].isin(valid_date)]\n",
    "    y_valid = df['responder_6'].loc[df['date_id'].isin(valid_date)]\n",
    "    w_valid = df['weight'].loc[df['date_id'].isin(valid_date)]"
   ]
  },
  {
   "cell_type": "code",
   "execution_count": 12,
   "metadata": {},
   "outputs": [],
   "source": [
    "\n",
    "\n",
    "# 初始化一個列表以存儲訓練好的模型\n",
    "models = []\n",
    "\n",
    "# 定義函數來訓練模型或載入預訓練模型\n",
    "def train(model_dict, model_name='lgb'):\n",
    "    if TRAINING:\n",
    "        selected_dates = [date for ii, date in enumerate(train_date) if ii % N_fold != i]\n",
    "        model = model_dict[model_name]\n",
    "        \n",
    "        X_train = df[feature_names].loc[df['date_id'].isin(selected_dates)]\n",
    "        y_train = df['responder_6'].loc[df['date_id'].isin(selected_dates)]\n",
    "        w_train = df['weight'].loc[df['date_id'].isin(selected_dates)]\n",
    "\n",
    "        if model_name == 'lgb':\n",
    "            model.fit(X_train, y_train, sample_weight=w_train,  \n",
    "                     eval_metric=[r2_lgb],\n",
    "                     eval_set=[(X_valid, y_valid)],\n",
    "                     callbacks=[lgb.early_stopping(100), lgb.log_evaluation(10)])\n",
    "            \n",
    "        elif model_name == 'cbt':\n",
    "            evalset = cbt.Pool(X_valid, y_valid, weight=w_valid)\n",
    "            model.fit(X_train, y_train, sample_weight=w_train, \n",
    "                     eval_set=[evalset], \n",
    "                     verbose=10, \n",
    "                     early_stopping_rounds=100)\n",
    "            \n",
    "        else:\n",
    "            model = XGBRegressor()\n",
    "            model.fit(X_train, y_train, \n",
    "            sample_weight=w_train, \n",
    "            eval_set=[(X_valid, y_valid)], \n",
    "            sample_weight_eval_set=[w_valid], \n",
    "            #early_stopping_rounds=100,\n",
    "            verbose=10\n",
    "            )\n",
    "\n",
    "\n",
    "\n",
    "        models.append(model)\n",
    "        joblib.dump(model, f'./models/{model_name}_{i}.model')\n",
    "        \n",
    "        del X_train, y_train, w_train\n",
    "        gc.collect()\n",
    "        \n",
    "    else:\n",
    "        models.append(joblib.load(f'{model_path}/{model_name}_{i}.model'))\n",
    "    \n",
    "    return\n",
    "\n",
    "# 定義 XGBoost 的自定義 R2 評估指標\n",
    "def r2_xgb(y_true, y_pred, sample_weight):\n",
    "    r2 = 1 - np.average((y_pred - y_true) ** 2, weights=sample_weight) / (np.average((y_true) ** 2, weights=sample_weight) + 1e-38)\n",
    "    return -r2\n",
    "\n",
    "# 定義 LightGBM 的自定義 R2 評估指標\n",
    "def r2_lgb(y_true, y_pred, sample_weight):\n",
    "    r2 = 1 - np.average((y_pred - y_true) ** 2, weights=sample_weight) / (np.average((y_true) ** 2, weights=sample_weight) + 1e-38)\n",
    "    return 'r2', r2, True\n",
    "\n",
    "# 定義 CatBoost 的自定義 R2 評估指標\n",
    "class r2_cbt(object):\n",
    "    def get_final_error(self, error, weight):\n",
    "        return 1 - error / (weight + 1e-38)\n",
    "\n",
    "    def is_max_optimal(self):\n",
    "        return True\n",
    "\n",
    "    def evaluate(self, approxes, target, weight):\n",
    "        assert len(approxes) == 1\n",
    "        assert len(target) == len(approxes[0])\n",
    "\n",
    "        approx = approxes[0]\n",
    "\n",
    "        error_sum = 0.0\n",
    "        weight_sum = 0.0\n",
    "\n",
    "        for i in range(len(approx)):\n",
    "            w = 1.0 if weight is None else weight[i]\n",
    "            weight_sum += w * (target[i] ** 2)\n",
    "            error_sum += w * ((approx[i] - target[i]) ** 2)\n",
    "\n",
    "        return error_sum, weight_sum\n",
    "\n",
    "\n"
   ]
  },
  {
   "cell_type": "code",
   "execution_count": 13,
   "metadata": {},
   "outputs": [],
   "source": [
    "# 定義模型字典，包含不同模型的配置\n",
    "model_dict = {\n",
    "    'lgb': lgb.LGBMRegressor(n_estimators=500, device='gpu', gpu_use_dp=True, objective='l2'),\n",
    "    'xgb': xgb.XGBRegressor(n_estimators=2000, learning_rate=0.1, max_depth=6, tree_method='hist', device=\"cuda\", objective='reg:squarederror', eval_metric=r2_xgb, disable_default_eval_metric=True, early_stopping_rounds=100),\n",
    "    'cbt': cbt.CatBoostRegressor(iterations=1000, learning_rate=0.05, task_type='GPU', loss_function='RMSE', eval_metric=r2_cbt()),\n",
    "}\n",
    "\n",
    "# 對每一折進行模型訓練\n",
    "for i in range(1,N_fold):\n",
    "    train(model_dict, 'xgb')\n",
    "    train(model_dict, 'lgb')\n",
    "    train(model_dict, 'cbt')"
   ]
  },
  {
   "cell_type": "markdown",
   "metadata": {},
   "source": [
    "# prediction"
   ]
  },
  {
   "cell_type": "code",
   "execution_count": 14,
   "metadata": {},
   "outputs": [],
   "source": [
    "def predict(test: pl.DataFrame, lags: pl.DataFrame | None) -> pl.DataFrame | pd.DataFrame:\n",
    "    \"\"\"Make a prediction.\"\"\"\n",
    "    # All the responders from the previous day are passed in at time_id == 0. We save them in a global variable for access at every time_id.\n",
    "    # Use them as extra features, if you like.\n",
    "    global lags_\n",
    "    if lags is not None:\n",
    "        lags_ = lags\n",
    "\n",
    "    predictions = test.select(\n",
    "        'row_id',\n",
    "        pl.lit(0.0).alias('responder_6'),\n",
    "    )\n",
    "    \n",
    "    feat = test[feature_names].to_numpy()\n",
    "    \n",
    "    pred = [model.predict(feat) for model in models]\n",
    "    pred = np.mean(pred, axis=0)\n",
    "    \n",
    "    predictions = predictions.with_columns(pl.Series('responder_6', pred.ravel()))\n",
    "\n",
    "    # The predict function must return a DataFrame\n",
    "    assert isinstance(predictions, pl.DataFrame | pd.DataFrame)\n",
    "    # with columns 'row_id', 'responer_6'\n",
    "    assert list(predictions.columns) == ['row_id', 'responder_6']\n",
    "    # and as many rows as the test data.\n",
    "    assert len(predictions) == len(test)\n",
    "\n",
    "    return predictions"
   ]
  },
  {
   "cell_type": "code",
   "execution_count": 15,
   "metadata": {},
   "outputs": [
    {
     "data": {
      "text/html": [
       "<div><style>\n",
       ".dataframe > thead > tr,\n",
       ".dataframe > tbody > tr {\n",
       "  text-align: right;\n",
       "  white-space: pre-wrap;\n",
       "}\n",
       "</style>\n",
       "<small>shape: (5, 85)</small><table border=\"1\" class=\"dataframe\"><thead><tr><th>row_id</th><th>date_id</th><th>time_id</th><th>symbol_id</th><th>weight</th><th>is_scored</th><th>feature_00</th><th>feature_01</th><th>feature_02</th><th>feature_03</th><th>feature_04</th><th>feature_05</th><th>feature_06</th><th>feature_07</th><th>feature_08</th><th>feature_09</th><th>feature_10</th><th>feature_11</th><th>feature_12</th><th>feature_13</th><th>feature_14</th><th>feature_15</th><th>feature_16</th><th>feature_17</th><th>feature_18</th><th>feature_19</th><th>feature_20</th><th>feature_21</th><th>feature_22</th><th>feature_23</th><th>feature_24</th><th>feature_25</th><th>feature_26</th><th>feature_27</th><th>feature_28</th><th>feature_29</th><th>feature_30</th><th>&hellip;</th><th>feature_42</th><th>feature_43</th><th>feature_44</th><th>feature_45</th><th>feature_46</th><th>feature_47</th><th>feature_48</th><th>feature_49</th><th>feature_50</th><th>feature_51</th><th>feature_52</th><th>feature_53</th><th>feature_54</th><th>feature_55</th><th>feature_56</th><th>feature_57</th><th>feature_58</th><th>feature_59</th><th>feature_60</th><th>feature_61</th><th>feature_62</th><th>feature_63</th><th>feature_64</th><th>feature_65</th><th>feature_66</th><th>feature_67</th><th>feature_68</th><th>feature_69</th><th>feature_70</th><th>feature_71</th><th>feature_72</th><th>feature_73</th><th>feature_74</th><th>feature_75</th><th>feature_76</th><th>feature_77</th><th>feature_78</th></tr><tr><td>i64</td><td>i16</td><td>i16</td><td>i8</td><td>f32</td><td>bool</td><td>f32</td><td>f32</td><td>f32</td><td>f32</td><td>f32</td><td>f32</td><td>f32</td><td>f32</td><td>f32</td><td>f64</td><td>f64</td><td>f64</td><td>f32</td><td>f32</td><td>f32</td><td>f32</td><td>f32</td><td>f32</td><td>f32</td><td>f32</td><td>f32</td><td>f32</td><td>f32</td><td>f32</td><td>f32</td><td>f32</td><td>f32</td><td>f32</td><td>f32</td><td>f32</td><td>f32</td><td>&hellip;</td><td>f32</td><td>f32</td><td>f32</td><td>f32</td><td>f32</td><td>f32</td><td>f32</td><td>f32</td><td>f32</td><td>f32</td><td>f32</td><td>f32</td><td>f32</td><td>f32</td><td>f32</td><td>f32</td><td>f32</td><td>f32</td><td>f32</td><td>f32</td><td>f32</td><td>f32</td><td>f32</td><td>f32</td><td>f32</td><td>f32</td><td>f32</td><td>f32</td><td>f32</td><td>f32</td><td>f32</td><td>f32</td><td>f32</td><td>f32</td><td>f32</td><td>f32</td><td>f32</td></tr></thead><tbody><tr><td>0</td><td>0</td><td>0</td><td>0</td><td>3.169998</td><td>true</td><td>0.0</td><td>0.0</td><td>0.0</td><td>0.0</td><td>0.0</td><td>-0.0</td><td>-0.0</td><td>-0.0</td><td>0.0</td><td>0.0</td><td>0.0</td><td>0.0</td><td>-0.0</td><td>0.0</td><td>0.0</td><td>null</td><td>-0.0</td><td>null</td><td>-0.0</td><td>-0.0</td><td>0.0</td><td>-0.0</td><td>0.0</td><td>0.0</td><td>0.0</td><td>0.0</td><td>0.0</td><td>0.0</td><td>0.0</td><td>-0.0</td><td>-0.0</td><td>&hellip;</td><td>null</td><td>-0.0</td><td>null</td><td>-0.0</td><td>0.0</td><td>-0.0</td><td>0.0</td><td>0.0</td><td>null</td><td>0.0</td><td>null</td><td>null</td><td>-0.0</td><td>null</td><td>-0.0</td><td>0.0</td><td>null</td><td>0.0</td><td>0.0</td><td>-0.0</td><td>-0.0</td><td>-0.0</td><td>-0.0</td><td>-0.0</td><td>-0.0</td><td>-0.0</td><td>0.0</td><td>-0.0</td><td>-0.0</td><td>0.0</td><td>0.0</td><td>null</td><td>null</td><td>0.0</td><td>0.0</td><td>-0.0</td><td>-0.0</td></tr><tr><td>1</td><td>0</td><td>0</td><td>1</td><td>2.165993</td><td>true</td><td>0.0</td><td>-0.0</td><td>0.0</td><td>0.0</td><td>0.0</td><td>-0.0</td><td>-0.0</td><td>-0.0</td><td>0.0</td><td>0.0</td><td>0.0</td><td>0.0</td><td>-0.0</td><td>0.0</td><td>-0.0</td><td>null</td><td>-0.0</td><td>null</td><td>-0.0</td><td>-0.0</td><td>0.0</td><td>-0.0</td><td>0.0</td><td>0.0</td><td>0.0</td><td>0.0</td><td>-0.0</td><td>0.0</td><td>0.0</td><td>-0.0</td><td>-0.0</td><td>&hellip;</td><td>null</td><td>-0.0</td><td>null</td><td>-0.0</td><td>0.0</td><td>0.0</td><td>0.0</td><td>0.0</td><td>null</td><td>0.0</td><td>null</td><td>null</td><td>-0.0</td><td>null</td><td>-0.0</td><td>0.0</td><td>null</td><td>0.0</td><td>0.0</td><td>-0.0</td><td>-0.0</td><td>-0.0</td><td>-0.0</td><td>-0.0</td><td>-0.0</td><td>-0.0</td><td>0.0</td><td>-0.0</td><td>-0.0</td><td>0.0</td><td>-0.0</td><td>null</td><td>null</td><td>0.0</td><td>0.0</td><td>0.0</td><td>0.0</td></tr><tr><td>2</td><td>0</td><td>0</td><td>2</td><td>3.06555</td><td>true</td><td>0.0</td><td>-0.0</td><td>0.0</td><td>0.0</td><td>0.0</td><td>-0.0</td><td>-0.0</td><td>-0.0</td><td>0.0</td><td>0.0</td><td>0.0</td><td>0.0</td><td>-0.0</td><td>0.0</td><td>0.0</td><td>null</td><td>-0.0</td><td>null</td><td>-0.0</td><td>-0.0</td><td>0.0</td><td>-0.0</td><td>0.0</td><td>0.0</td><td>0.0</td><td>-0.0</td><td>0.0</td><td>0.0</td><td>0.0</td><td>-0.0</td><td>-0.0</td><td>&hellip;</td><td>null</td><td>-0.0</td><td>null</td><td>-0.0</td><td>0.0</td><td>-0.0</td><td>-0.0</td><td>-0.0</td><td>null</td><td>0.0</td><td>null</td><td>null</td><td>-0.0</td><td>null</td><td>-0.0</td><td>0.0</td><td>null</td><td>-0.0</td><td>-0.0</td><td>-0.0</td><td>0.0</td><td>-0.0</td><td>-0.0</td><td>-0.0</td><td>-0.0</td><td>-0.0</td><td>0.0</td><td>0.0</td><td>-0.0</td><td>0.0</td><td>0.0</td><td>null</td><td>null</td><td>0.0</td><td>0.0</td><td>-0.0</td><td>-0.0</td></tr><tr><td>3</td><td>0</td><td>0</td><td>3</td><td>2.698642</td><td>true</td><td>0.0</td><td>0.0</td><td>0.0</td><td>0.0</td><td>0.0</td><td>-0.0</td><td>-0.0</td><td>-0.0</td><td>0.0</td><td>0.0</td><td>0.0</td><td>0.0</td><td>-0.0</td><td>0.0</td><td>0.0</td><td>null</td><td>-0.0</td><td>null</td><td>-0.0</td><td>-0.0</td><td>-0.0</td><td>-0.0</td><td>0.0</td><td>0.0</td><td>-0.0</td><td>-0.0</td><td>-0.0</td><td>-0.0</td><td>-0.0</td><td>-0.0</td><td>-0.0</td><td>&hellip;</td><td>null</td><td>-0.0</td><td>null</td><td>-0.0</td><td>0.0</td><td>-0.0</td><td>0.0</td><td>-0.0</td><td>null</td><td>-0.0</td><td>null</td><td>null</td><td>-0.0</td><td>null</td><td>-0.0</td><td>0.0</td><td>null</td><td>-0.0</td><td>-0.0</td><td>-0.0</td><td>-0.0</td><td>-0.0</td><td>-0.0</td><td>-0.0</td><td>-0.0</td><td>-0.0</td><td>0.0</td><td>0.0</td><td>-0.0</td><td>0.0</td><td>0.0</td><td>null</td><td>null</td><td>0.0</td><td>0.0</td><td>-0.0</td><td>-0.0</td></tr><tr><td>4</td><td>0</td><td>0</td><td>4</td><td>1.80333</td><td>true</td><td>0.0</td><td>-0.0</td><td>0.0</td><td>0.0</td><td>0.0</td><td>-0.0</td><td>-0.0</td><td>-0.0</td><td>0.0</td><td>0.0</td><td>0.0</td><td>0.0</td><td>-0.0</td><td>0.0</td><td>-0.0</td><td>null</td><td>-0.0</td><td>null</td><td>-0.0</td><td>-0.0</td><td>-0.0</td><td>0.0</td><td>0.0</td><td>0.0</td><td>0.0</td><td>0.0</td><td>-0.0</td><td>-0.0</td><td>-0.0</td><td>-0.0</td><td>-0.0</td><td>&hellip;</td><td>null</td><td>-0.0</td><td>null</td><td>-0.0</td><td>0.0</td><td>0.0</td><td>0.0</td><td>0.0</td><td>null</td><td>0.0</td><td>null</td><td>null</td><td>-0.0</td><td>null</td><td>-0.0</td><td>0.0</td><td>null</td><td>-0.0</td><td>-0.0</td><td>-0.0</td><td>-0.0</td><td>-0.0</td><td>-0.0</td><td>-0.0</td><td>-0.0</td><td>-0.0</td><td>0.0</td><td>-0.0</td><td>-0.0</td><td>0.0</td><td>-0.0</td><td>null</td><td>null</td><td>0.0</td><td>0.0</td><td>0.0</td><td>0.0</td></tr></tbody></table></div>"
      ],
      "text/plain": [
       "shape: (5, 85)\n",
       "┌────────┬─────────┬─────────┬───────────┬───┬────────────┬────────────┬────────────┬────────────┐\n",
       "│ row_id ┆ date_id ┆ time_id ┆ symbol_id ┆ … ┆ feature_75 ┆ feature_76 ┆ feature_77 ┆ feature_78 │\n",
       "│ ---    ┆ ---     ┆ ---     ┆ ---       ┆   ┆ ---        ┆ ---        ┆ ---        ┆ ---        │\n",
       "│ i64    ┆ i16     ┆ i16     ┆ i8        ┆   ┆ f32        ┆ f32        ┆ f32        ┆ f32        │\n",
       "╞════════╪═════════╪═════════╪═══════════╪═══╪════════════╪════════════╪════════════╪════════════╡\n",
       "│ 0      ┆ 0       ┆ 0       ┆ 0         ┆ … ┆ 0.0        ┆ 0.0        ┆ -0.0       ┆ -0.0       │\n",
       "│ 1      ┆ 0       ┆ 0       ┆ 1         ┆ … ┆ 0.0        ┆ 0.0        ┆ 0.0        ┆ 0.0        │\n",
       "│ 2      ┆ 0       ┆ 0       ┆ 2         ┆ … ┆ 0.0        ┆ 0.0        ┆ -0.0       ┆ -0.0       │\n",
       "│ 3      ┆ 0       ┆ 0       ┆ 3         ┆ … ┆ 0.0        ┆ 0.0        ┆ -0.0       ┆ -0.0       │\n",
       "│ 4      ┆ 0       ┆ 0       ┆ 4         ┆ … ┆ 0.0        ┆ 0.0        ┆ 0.0        ┆ 0.0        │\n",
       "└────────┴─────────┴─────────┴───────────┴───┴────────────┴────────────┴────────────┴────────────┘"
      ]
     },
     "execution_count": 15,
     "metadata": {},
     "output_type": "execute_result"
    }
   ],
   "source": [
    "# test data\n",
    "test_data = pl.read_parquet(r'C:\\Users\\User\\Desktop\\kaggle\\Jane-street-Real-Time-Market-Data-Forecasting\\test.parquet\\date_id=0\\part-0.parquet')\n",
    "test_data.head()"
   ]
  },
  {
   "cell_type": "code",
   "execution_count": 16,
   "metadata": {},
   "outputs": [
    {
     "data": {
      "text/html": [
       "<div><style>\n",
       ".dataframe > thead > tr,\n",
       ".dataframe > tbody > tr {\n",
       "  text-align: right;\n",
       "  white-space: pre-wrap;\n",
       "}\n",
       "</style>\n",
       "<small>shape: (5, 12)</small><table border=\"1\" class=\"dataframe\"><thead><tr><th>date_id</th><th>time_id</th><th>symbol_id</th><th>responder_0_lag_1</th><th>responder_1_lag_1</th><th>responder_2_lag_1</th><th>responder_3_lag_1</th><th>responder_4_lag_1</th><th>responder_5_lag_1</th><th>responder_6_lag_1</th><th>responder_7_lag_1</th><th>responder_8_lag_1</th></tr><tr><td>i16</td><td>i16</td><td>i8</td><td>f32</td><td>f32</td><td>f32</td><td>f32</td><td>f32</td><td>f32</td><td>f32</td><td>f32</td><td>f32</td></tr></thead><tbody><tr><td>0</td><td>0</td><td>0</td><td>-0.442215</td><td>-0.322407</td><td>0.143594</td><td>-0.92689</td><td>-0.782236</td><td>-0.036595</td><td>-1.305746</td><td>-0.795677</td><td>-0.143724</td></tr><tr><td>0</td><td>0</td><td>1</td><td>-0.651829</td><td>-1.70784</td><td>-0.893942</td><td>-1.065488</td><td>-1.871338</td><td>-0.615652</td><td>-1.162801</td><td>-1.205924</td><td>-1.245934</td></tr><tr><td>0</td><td>0</td><td>2</td><td>-0.656373</td><td>-0.264575</td><td>-0.892879</td><td>-1.511886</td><td>-1.03348</td><td>-0.378265</td><td>-1.57429</td><td>-1.863071</td><td>-0.027343</td></tr><tr><td>0</td><td>0</td><td>3</td><td>-0.188186</td><td>-0.19097</td><td>-0.70149</td><td>0.098453</td><td>-1.015506</td><td>-0.054984</td><td>0.329152</td><td>-0.965471</td><td>0.576635</td></tr><tr><td>0</td><td>0</td><td>4</td><td>-0.257462</td><td>-0.471325</td><td>-0.29742</td><td>0.074018</td><td>-0.324194</td><td>-0.597093</td><td>0.219856</td><td>-0.276356</td><td>-0.90479</td></tr></tbody></table></div>"
      ],
      "text/plain": [
       "shape: (5, 12)\n",
       "┌─────────┬─────────┬───────────┬────────────┬───┬────────────┬────────────┬───────────┬───────────┐\n",
       "│ date_id ┆ time_id ┆ symbol_id ┆ responder_ ┆ … ┆ responder_ ┆ responder_ ┆ responder ┆ responder │\n",
       "│ ---     ┆ ---     ┆ ---       ┆ 0_lag_1    ┆   ┆ 5_lag_1    ┆ 6_lag_1    ┆ _7_lag_1  ┆ _8_lag_1  │\n",
       "│ i16     ┆ i16     ┆ i8        ┆ ---        ┆   ┆ ---        ┆ ---        ┆ ---       ┆ ---       │\n",
       "│         ┆         ┆           ┆ f32        ┆   ┆ f32        ┆ f32        ┆ f32       ┆ f32       │\n",
       "╞═════════╪═════════╪═══════════╪════════════╪═══╪════════════╪════════════╪═══════════╪═══════════╡\n",
       "│ 0       ┆ 0       ┆ 0         ┆ -0.442215  ┆ … ┆ -0.036595  ┆ -1.305746  ┆ -0.795677 ┆ -0.143724 │\n",
       "│ 0       ┆ 0       ┆ 1         ┆ -0.651829  ┆ … ┆ -0.615652  ┆ -1.162801  ┆ -1.205924 ┆ -1.245934 │\n",
       "│ 0       ┆ 0       ┆ 2         ┆ -0.656373  ┆ … ┆ -0.378265  ┆ -1.57429   ┆ -1.863071 ┆ -0.027343 │\n",
       "│ 0       ┆ 0       ┆ 3         ┆ -0.188186  ┆ … ┆ -0.054984  ┆ 0.329152   ┆ -0.965471 ┆ 0.576635  │\n",
       "│ 0       ┆ 0       ┆ 4         ┆ -0.257462  ┆ … ┆ -0.597093  ┆ 0.219856   ┆ -0.276356 ┆ -0.90479  │\n",
       "└─────────┴─────────┴───────────┴────────────┴───┴────────────┴────────────┴───────────┴───────────┘"
      ]
     },
     "execution_count": 16,
     "metadata": {},
     "output_type": "execute_result"
    }
   ],
   "source": [
    "# lags data\n",
    "lags_data = pl.read_parquet(r'C:\\Users\\User\\Desktop\\kaggle\\Jane-street-Real-Time-Market-Data-Forecasting\\lags.parquet\\date_id=0\\part-0.parquet')\n",
    "lags_data.head()"
   ]
  },
  {
   "cell_type": "code",
   "execution_count": 17,
   "metadata": {},
   "outputs": [],
   "source": [
    "prediction = predict(test_data, lags_data)"
   ]
  },
  {
   "cell_type": "code",
   "execution_count": 18,
   "metadata": {},
   "outputs": [
    {
     "data": {
      "text/html": [
       "<div><style>\n",
       ".dataframe > thead > tr,\n",
       ".dataframe > tbody > tr {\n",
       "  text-align: right;\n",
       "  white-space: pre-wrap;\n",
       "}\n",
       "</style>\n",
       "<small>shape: (39, 2)</small><table border=\"1\" class=\"dataframe\"><thead><tr><th>row_id</th><th>responder_6</th></tr><tr><td>i64</td><td>f64</td></tr></thead><tbody><tr><td>0</td><td>0.020846</td></tr><tr><td>1</td><td>0.020846</td></tr><tr><td>2</td><td>0.020846</td></tr><tr><td>3</td><td>0.020846</td></tr><tr><td>4</td><td>0.020846</td></tr><tr><td>&hellip;</td><td>&hellip;</td></tr><tr><td>34</td><td>0.020846</td></tr><tr><td>35</td><td>0.020846</td></tr><tr><td>36</td><td>0.010585</td></tr><tr><td>37</td><td>0.020846</td></tr><tr><td>38</td><td>0.020846</td></tr></tbody></table></div>"
      ],
      "text/plain": [
       "shape: (39, 2)\n",
       "┌────────┬─────────────┐\n",
       "│ row_id ┆ responder_6 │\n",
       "│ ---    ┆ ---         │\n",
       "│ i64    ┆ f64         │\n",
       "╞════════╪═════════════╡\n",
       "│ 0      ┆ 0.020846    │\n",
       "│ 1      ┆ 0.020846    │\n",
       "│ 2      ┆ 0.020846    │\n",
       "│ 3      ┆ 0.020846    │\n",
       "│ 4      ┆ 0.020846    │\n",
       "│ …      ┆ …           │\n",
       "│ 34     ┆ 0.020846    │\n",
       "│ 35     ┆ 0.020846    │\n",
       "│ 36     ┆ 0.010585    │\n",
       "│ 37     ┆ 0.020846    │\n",
       "│ 38     ┆ 0.020846    │\n",
       "└────────┴─────────────┘"
      ]
     },
     "execution_count": 18,
     "metadata": {},
     "output_type": "execute_result"
    }
   ],
   "source": [
    "prediction"
   ]
  },
  {
   "cell_type": "markdown",
   "metadata": {},
   "source": [
    "# Submittion"
   ]
  },
  {
   "cell_type": "code",
   "execution_count": 19,
   "metadata": {},
   "outputs": [],
   "source": [
    "inference_server = kaggle_evaluation.jane_street_inference_server.JSInferenceServer(predict)"
   ]
  }
 ],
 "metadata": {
  "kernelspec": {
   "display_name": "janestreet",
   "language": "python",
   "name": "python3"
  },
  "language_info": {
   "codemirror_mode": {
    "name": "ipython",
    "version": 3
   },
   "file_extension": ".py",
   "mimetype": "text/x-python",
   "name": "python",
   "nbconvert_exporter": "python",
   "pygments_lexer": "ipython3",
   "version": "3.11.10"
  }
 },
 "nbformat": 4,
 "nbformat_minor": 2
}
